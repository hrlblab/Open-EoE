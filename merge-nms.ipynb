{
 "cells": [
  {
   "cell_type": "code",
   "execution_count": 1,
   "metadata": {},
   "outputs": [],
   "source": [
    "import json\n",
    "import os\n",
    "import numpy as np"
   ]
  },
  {
   "cell_type": "code",
   "execution_count": 17,
   "metadata": {},
   "outputs": [],
   "source": [
    "filenames = os.listdir('EoE_289_patch')\n",
    "# filenames"
   ]
  },
  {
   "cell_type": "code",
   "execution_count": 18,
   "metadata": {},
   "outputs": [],
   "source": [
    "path = '2class_json'\n",
    "for prefix in filenames:\n",
    "    with open('2class_json/{}-center.json'.format(prefix)) as f1:\n",
    "        data1 = json.load(f1)\n",
    "    with open('2class_json/{}-faster.json'.format(prefix)) as f2:\n",
    "        data2 = json.load(f2)\n",
    "    with open('2class_json/{}-mask.json'.format(prefix)) as f3:\n",
    "        data3 = json.load(f3)\n",
    "\n",
    "    data = data1 + data2 + data3\n",
    "    with open('merge/{}-merge.json'.format(prefix), 'w') as file:\n",
    "        json.dump(data, file)\n",
    "    "
   ]
  },
  {
   "cell_type": "code",
   "execution_count": 2,
   "metadata": {},
   "outputs": [],
   "source": [
    "def is_overlapping(bbox1, bbox2):\n",
    "    return not (bbox1[2] < bbox2[0] or bbox1[0] > bbox2[2] or bbox1[3] < bbox2[1] or bbox1[1] > bbox2[3])\n",
    "\n",
    "def process_bboxes(bboxes):\n",
    "    flattened_bboxes = [bbox for sublist in bboxes for bbox in sublist]\n",
    "    bboxes_to_remove = []\n",
    "    for i, bbox1 in enumerate(flattened_bboxes):\n",
    "        has_overlap = False\n",
    "        for j, bbox2 in enumerate(flattened_bboxes):\n",
    "            if i != j and is_overlapping(bbox1, bbox2):\n",
    "                has_overlap = True\n",
    "                break\n",
    "        if not has_overlap:\n",
    "            bboxes_to_remove.append(bbox1)\n",
    "\n",
    "    # Remove non-overlapping bboxes\n",
    "    for bbox in bboxes_to_remove:\n",
    "        flattened_bboxes.remove(bbox)\n",
    "\n",
    "    return flattened_bboxes"
   ]
  },
  {
   "cell_type": "code",
   "execution_count": 3,
   "metadata": {},
   "outputs": [],
   "source": [
    "def calculate_iou(box1, box2):\n",
    "    \"\"\"\n",
    "    Calculate the Intersection over Union (IoU) of two bounding boxes.\n",
    "    \"\"\"\n",
    "    x1 = max(box1[0], box2[0])\n",
    "    y1 = max(box1[1], box2[1])\n",
    "    x2 = min(box1[2], box2[2])\n",
    "    y2 = min(box1[3], box2[3])\n",
    "\n",
    "    intersection_area = max(0, x2 - x1 + 1) * max(0, y2 - y1 + 1)\n",
    "    box1_area = (box1[2] - box1[0] + 1) * (box1[3] - box1[1] + 1)\n",
    "    box2_area = (box2[2] - box2[0] + 1) * (box2[3] - box2[1] + 1)\n",
    "\n",
    "    iou = intersection_area / float(box1_area + box2_area - intersection_area)\n",
    "    return iou\n",
    "\n",
    "def nms(bboxes, iou_threshold):\n",
    "    \"\"\"\n",
    "    Perform Non-Maximum Suppression (NMS) on a list of bounding boxes.\n",
    "    \"\"\"\n",
    "    bboxes = sorted(bboxes, key=lambda x: x[4], reverse=True)  # Sort by scores in descending order\n",
    "    selected_bboxes = []\n",
    "\n",
    "    while len(bboxes) > 0:\n",
    "        best_bbox = bboxes[0]\n",
    "        selected_bboxes.append(best_bbox)\n",
    "\n",
    "        remaining_bboxes = []\n",
    "        for bbox in bboxes[1:]:\n",
    "            if calculate_iou(best_bbox, bbox) < iou_threshold:\n",
    "                remaining_bboxes.append(bbox)\n",
    "\n",
    "        bboxes = remaining_bboxes\n",
    "\n",
    "    return selected_bboxes"
   ]
  },
  {
   "cell_type": "code",
   "execution_count": 4,
   "metadata": {},
   "outputs": [],
   "source": [
    "folder_path = 'EoE_289_patch'\n",
    "iou_threshold = 0.6\n",
    "\n",
    "for file in os.listdir(folder_path):\n",
    "    path = os.path.join('merge', '{}-merge.json'.format(file))\n",
    "    with open(path) as f:\n",
    "        data = json.load(f)\n",
    "    # data = [item for sublist in data for item in sublist]\n",
    "    processed_bboxes = process_bboxes(data)\n",
    "    nms_bbox = nms(processed_bboxes, iou_threshold)\n",
    "\n",
    "    with open('overlaps_nms/{}-nms.json'.format(file), 'w') as file:\n",
    "        json.dump(nms_bbox, file)\n",
    "\n",
    "    "
   ]
  },
  {
   "cell_type": "code",
   "execution_count": null,
   "metadata": {},
   "outputs": [],
   "source": [
    "# iou_threshold = 0.1\n",
    "# a = [item for sublist in data for item in sublist] # Flattening your nested data\n",
    "# selected_bbox = nms(a, iou_threshold)\n",
    "\n",
    "# # Define the file name\n",
    "# filename = \"selected_bounding_boxes.json\"\n",
    "\n",
    "# # Write to the file\n",
    "# with open(filename, 'w') as file:\n",
    "#     json.dump(selected_bbox, file)\n",
    "\n"
   ]
  }
 ],
 "metadata": {
  "kernelspec": {
   "display_name": "mmlab",
   "language": "python",
   "name": "python3"
  },
  "language_info": {
   "codemirror_mode": {
    "name": "ipython",
    "version": 3
   },
   "file_extension": ".py",
   "mimetype": "text/x-python",
   "name": "python",
   "nbconvert_exporter": "python",
   "pygments_lexer": "ipython3",
   "version": "3.8.16"
  },
  "orig_nbformat": 4
 },
 "nbformat": 4,
 "nbformat_minor": 2
}
